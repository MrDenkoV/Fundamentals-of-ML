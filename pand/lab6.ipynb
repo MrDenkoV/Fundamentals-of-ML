{
 "metadata": {
  "language_info": {
   "codemirror_mode": {
    "name": "ipython",
    "version": 3
   },
   "file_extension": ".py",
   "mimetype": "text/x-python",
   "name": "python",
   "nbconvert_exporter": "python",
   "pygments_lexer": "ipython3",
   "version": "3.8.2"
  },
  "orig_nbformat": 2,
  "kernelspec": {
   "name": "python382jvsc74a57bd031f2aee4e71d21fbe5cf8b01ff0e069b9275f58929596ceb00d14d90e3e16cd6",
   "display_name": "Python 3.8.2 64-bit"
  },
  "metadata": {
   "interpreter": {
    "hash": "31f2aee4e71d21fbe5cf8b01ff0e069b9275f58929596ceb00d14d90e3e16cd6"
   }
  }
 },
 "nbformat": 4,
 "nbformat_minor": 2,
 "cells": [
  {
   "cell_type": "code",
   "execution_count": 1,
   "metadata": {},
   "outputs": [],
   "source": [
    "import numpy as np\n",
    "import pandas as pd\n",
    "import matplotlib.pyplot as plt\n",
    "from sklearn.ensemble import RandomForestClassifier\n",
    "from sklearn.neighbors import KNeighborsClassifier\n",
    "from sklearn.model_selection import RepeatedKFold\n",
    "from sklearn.metrics import roc_curve, accuracy_score, recall_score, precision_score"
   ]
  },
  {
   "cell_type": "code",
   "execution_count": 22,
   "metadata": {},
   "outputs": [
    {
     "output_type": "execute_result",
     "data": {
      "text/plain": [
       "Index(['EYE PAIN', 'CHEST PAIN', 'SOAR THROAT', 'STUFFY/RUNNY NOSE',\n",
       "       'WEAKNESS FATIGUE', 'Aches/ Muscle Pain', 'Headache', 'Cough',\n",
       "       'Difficulty in Breathing', 'Change in Sleep Cycle',\n",
       "       'Do you personally know anyone in your local community who is ill with a fever and either a cough or difficulty breathing?',\n",
       "       'For how many days have you had at least one of these symptoms?',\n",
       "       'Have you ever been tested for coronavirus (COVID-19)?',\n",
       "       'Have you been tested for coronavirus (COVID-19) in the last 14 days?',\n",
       "       'If you have been tested, did this test find that you had coronavirus (COVID-19)?',\n",
       "       'Did you have to pay anything for this test yourself?',\n",
       "       'If a vaccine to prevent COVID-19 was offered to you today, would you choose to be vaccinated?',\n",
       "       'In the last 24 hours, have you done any of the following? [Have gone to work outside that place where you live]',\n",
       "       'In the last 24 hours, have you done any of the following? [Gone to Supermarket or Pharmacy]',\n",
       "       'In the last 24 hours, have you done any of the following? [Gone to Restaurant/CAFE/Shopping Center]',\n",
       "       'In the last 24 hours, have you done any of the following? [Spent time with someone who is currently not staying with you.]',\n",
       "       'In the last 24 hours, have you done any of the following? [Attended public meet with more than 10 people]',\n",
       "       'In the last 24 hours, have you done any of the following? [You were present in the crowded place of more than 7 people]',\n",
       "       'In the last 24 hours, have you done any of the following? [Have used Public Transport]',\n",
       "       'In the last 24 hours, have you done any of the following? [You were at Home.]',\n",
       "       'In the last 24 hours, have you done any of the following? [None of the above]',\n",
       "       'In last 24 Hours When Ever you stepped outside your personal premises, How often have you used mask/face cover.',\n",
       "       'How often are you intentionally avoiding contact with other people?',\n",
       "       'GENDER', 'DO YOU SMOKE ?', 'ALCHOHOL CONSUMPTION',\n",
       "       'Do you access to Sanitizer/Hand wash at workplace',\n",
       "       'Do you access to Sanitizer/Hand wash at Home', 'AGE BAND'],\n",
       "      dtype='object')"
      ]
     },
     "metadata": {},
     "execution_count": 22
    }
   ],
   "source": [
    "def load_data(name='data.csv'):\n",
    "    data = pd.read_csv(name)\n",
    "    drops = [\n",
    "        'Timestamp',\n",
    "        'Country',\n",
    "        'STATE',\n",
    "        'CITY',\n",
    "        'Are you above 18 Years of Age. ',\n",
    "        'Would you be more likely or less likely to have a COVID-19 vaccination if it was recommended to you by each of the following: [WHO]',\n",
    "        'Would you be more likely or less likely to have a COVID-19 vaccination if it was recommended to you by each of the following: [Politicians]',\n",
    "        'Would you be more likely or less likely to have a COVID-19 vaccination if it was recommended to you by each of the following: [Government Health Officials]',\n",
    "        'Would you be more likely or less likely to have a COVID-19 vaccination if it was recommended to you by each of the following: [Doctors & Healthcare Staff ]',\n",
    "        'Would you be more likely or less likely to have a COVID-19 vaccination if it was recommended to you by each of the following: [Friends and Fa,ily]',\n",
    "        'How concerned are you that you would experience a side effect from a COVID-19 vaccination?',\n",
    "        'HAVE YOU EVER BEEN SUFFERED WITH THE BELOW MENTIONED DISEASES (OR) ARE YOU SUFFURING FROM ANY OF THE DISEASES BELOW.'\n",
    "    ]\n",
    "    data = data.drop(columns=drops)\n",
    "\n",
    "    return data\n",
    "\n",
    "data = load_data()\n",
    "data.columns"
   ]
  },
  {
   "cell_type": "code",
   "execution_count": 19,
   "metadata": {},
   "outputs": [
    {
     "output_type": "execute_result",
     "data": {
      "text/plain": [
       "Index(['Timestamp', 'Country', 'STATE', 'CITY',\n",
       "       'Are you above 18 Years of Age. ', 'EYE PAIN', 'CHEST PAIN',\n",
       "       'SOAR THROAT', 'STUFFY/RUNNY NOSE', 'WEAKNESS FATIGUE',\n",
       "       'Aches/ Muscle Pain', 'Headache', 'Cough', 'Difficulty in Breathing',\n",
       "       'Change in Sleep Cycle',\n",
       "       'Do you personally know anyone in your local community who is ill with a fever and either a cough or difficulty breathing?',\n",
       "       'For how many days have you had at least one of these symptoms?',\n",
       "       'Have you ever been tested for coronavirus (COVID-19)?',\n",
       "       'Have you been tested for coronavirus (COVID-19) in the last 14 days?',\n",
       "       'If you have been tested, did this test find that you had coronavirus (COVID-19)?',\n",
       "       'Did you have to pay anything for this test yourself?',\n",
       "       'If a vaccine to prevent COVID-19 was offered to you today, would you choose to be vaccinated?',\n",
       "       'Would you be more likely or less likely to have a COVID-19 vaccination if it was recommended to you by each of the following: [WHO]',\n",
       "       'Would you be more likely or less likely to have a COVID-19 vaccination if it was recommended to you by each of the following: [Politicians]',\n",
       "       'Would you be more likely or less likely to have a COVID-19 vaccination if it was recommended to you by each of the following: [Government Health Officials]',\n",
       "       'Would you be more likely or less likely to have a COVID-19 vaccination if it was recommended to you by each of the following: [Doctors & Healthcare Staff ]',\n",
       "       'Would you be more likely or less likely to have a COVID-19 vaccination if it was recommended to you by each of the following: [Friends and Fa,ily]',\n",
       "       'How concerned are you that you would experience a side effect from a COVID-19 vaccination?',\n",
       "       'HAVE YOU EVER BEEN SUFFERED WITH THE BELOW MENTIONED DISEASES (OR) ARE YOU SUFFURING FROM ANY OF THE DISEASES BELOW.',\n",
       "       'In the last 24 hours, have you done any of the following? [Have gone to work outside that place where you live]',\n",
       "       'In the last 24 hours, have you done any of the following? [Gone to Supermarket or Pharmacy]',\n",
       "       'In the last 24 hours, have you done any of the following? [Gone to Restaurant/CAFE/Shopping Center]',\n",
       "       'In the last 24 hours, have you done any of the following? [Spent time with someone who is currently not staying with you.]',\n",
       "       'In the last 24 hours, have you done any of the following? [Attended public meet with more than 10 people]',\n",
       "       'In the last 24 hours, have you done any of the following? [You were present in the crowded place of more than 7 people]',\n",
       "       'In the last 24 hours, have you done any of the following? [Have used Public Transport]',\n",
       "       'In the last 24 hours, have you done any of the following? [You were at Home.]',\n",
       "       'In the last 24 hours, have you done any of the following? [None of the above]',\n",
       "       'In last 24 Hours When Ever you stepped outside your personal premises, How often have you used mask/face cover.',\n",
       "       'How often are you intentionally avoiding contact with other people?',\n",
       "       'GENDER', 'DO YOU SMOKE ?', 'ALCHOHOL CONSUMPTION',\n",
       "       'Do you access to Sanitizer/Hand wash at workplace',\n",
       "       'Do you access to Sanitizer/Hand wash at Home', 'AGE BAND'],\n",
       "      dtype='object')"
      ]
     },
     "metadata": {},
     "execution_count": 19
    }
   ],
   "source": [
    "data.columns"
   ]
  },
  {
   "cell_type": "code",
   "execution_count": null,
   "metadata": {},
   "outputs": [],
   "source": []
  }
 ]
}